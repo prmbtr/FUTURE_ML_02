{
 "cells": [
  {
   "cell_type": "code",
   "execution_count": 2,
   "id": "63a9f780",
   "metadata": {},
   "outputs": [
    {
     "name": "stdout",
     "output_type": "stream",
     "text": [
      "Accuracy score:  0.811\n",
      "Cross-validation scores for each fold: [0.811  0.8085 0.8085 0.818  0.802 ]\n",
      "Mean accuracy: 0.8096\n",
      "Standard deviation: 0.005151698748956476\n"
     ]
    }
   ],
   "source": [
    "# Import libraries\n",
    "import pandas as pd\n",
    "import numpy as np\n",
    "import matplotlib.pyplot as plt\n",
    "import seaborn as sns\n",
    "from sklearn.preprocessing import LabelEncoder,OneHotEncoder,StandardScaler\n",
    "from sklearn.model_selection import train_test_split,cross_val_score\n",
    "from sklearn.linear_model import LogisticRegression\n",
    "from sklearn.metrics import accuracy_score\n",
    "from sklearn.pipeline import make_pipeline\n",
    "\n",
    "# Import dataset\n",
    "churn_dataset = pd.read_csv(r\"C:\\Users\\HP\\Desktop\\loan dataset model\\Churn_Modelling.csv\")\n",
    "churn_dataset\n",
    "\n",
    "# Data cleaning and encoding\n",
    "droped_cols = churn_dataset.drop(['RowNumber','CustomerId','Surname'],axis=1)\n",
    "droped_cols\n",
    "\n",
    "encoder = LabelEncoder()\n",
    "droped_cols['Gender']=encoder.fit_transform(droped_cols['Gender'])\n",
    "droped_cols\n",
    "\n",
    "ohe = OneHotEncoder(drop=None,sparse_output=False)\n",
    "\n",
    "cat_cols = droped_cols.select_dtypes(include='object').columns\n",
    "encoded_array = ohe.fit_transform(droped_cols[cat_cols])\n",
    "\n",
    "encoded_df = pd.DataFrame(encoded_array, columns=ohe.get_feature_names_out(cat_cols))\n",
    "df_encoded = pd.concat([droped_cols.drop(columns=cat_cols), encoded_df], axis=1)\n",
    "df_encoded.astype(int)\n",
    "df = df_encoded\n",
    "\n",
    "df_exited = df['Exited']\n",
    "\n",
    "df_1 = pd.concat([df.drop(columns=['Exited']),df_exited],axis=1)\n",
    "df_1\n",
    "\n",
    "# Data splitting\n",
    "x= df_1.iloc[:,:-1].values\n",
    "y= df_1['Exited'].values\n",
    "\n",
    "xtrain,xtest,ytrain,ytest = train_test_split(x,y,train_size=0.8,random_state=42)\n",
    "\n",
    "# Standard scaling\n",
    "sc = StandardScaler()\n",
    "xtrainsc = sc.fit_transform(xtrain)\n",
    "xtestsc = sc.transform(xtest)\n",
    "\n",
    "# Initialize the model\n",
    "lgr = LogisticRegression()\n",
    "lgr.fit(xtrainsc,ytrain)\n",
    "\n",
    "ypred = lgr.predict(xtestsc)\n",
    "\n",
    "# Accuracy score\n",
    "acc = accuracy_score(ytest,ypred)\n",
    "\n",
    "# Cv scores\n",
    "pipeline = make_pipeline(StandardScaler(), LogisticRegression())\n",
    "cv_scores = cross_val_score(pipeline, x, y, cv=5, scoring='accuracy')\n",
    "\n",
    "print(\"Accuracy score: \", acc)\n",
    "print(\"Cross-validation scores for each fold:\", cv_scores)\n",
    "print(\"Mean accuracy:\", cv_scores.mean())\n",
    "print(\"Standard deviation:\", cv_scores.std())"
   ]
  }
 ],
 "metadata": {
  "kernelspec": {
   "display_name": "Python 3",
   "language": "python",
   "name": "python3"
  },
  "language_info": {
   "codemirror_mode": {
    "name": "ipython",
    "version": 3
   },
   "file_extension": ".py",
   "mimetype": "text/x-python",
   "name": "python",
   "nbconvert_exporter": "python",
   "pygments_lexer": "ipython3",
   "version": "3.12.10"
  }
 },
 "nbformat": 4,
 "nbformat_minor": 5
}
